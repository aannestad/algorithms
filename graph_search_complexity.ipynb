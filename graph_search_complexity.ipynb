{
 "cells": [
  {
   "cell_type": "markdown",
   "metadata": {},
   "source": [
    "## Define graph"
   ]
  },
  {
   "cell_type": "code",
   "execution_count": 32,
   "metadata": {},
   "outputs": [],
   "source": [
    "class graph:\n",
    "    def __init__(self, n):\n",
    "        self.n = n\n",
    "        self.adj_mat = [[0]*(self.n + 1)]*(self.n + 1)\n",
    "\n",
    "        \n",
    "\n",
    "    def add_edge(self, u, v):\n",
    "        self.adj_mat[u][v] = 1\n",
    "        self.adj_mat[v][u] = 1\n"
   ]
  },
  {
   "cell_type": "code",
   "execution_count": 33,
   "metadata": {},
   "outputs": [
    {
     "name": "stdout",
     "output_type": "stream",
     "text": [
      "[[0, 0, 0, 0, 0, 0], [0, 0, 0, 0, 0, 0], [0, 0, 0, 0, 0, 0], [0, 0, 0, 0, 0, 0], [0, 0, 0, 0, 0, 0], [0, 0, 0, 0, 0, 0]]\n"
     ]
    }
   ],
   "source": [
    "g1 = graph(5)\n",
    "print(g1.adj_mat)"
   ]
  },
  {
   "cell_type": "markdown",
   "metadata": {},
   "source": [
    "## Exponential path search\n",
    "# Demonstrate long runtime (30 seconds) and (5 seconds for cubic), (1 second for bfs)\n",
    "\n",
    "# 1million operations takes 1 second"
   ]
  },
  {
   "cell_type": "markdown",
   "metadata": {},
   "source": [
    "## Cubic search\n"
   ]
  },
  {
   "cell_type": "markdown",
   "metadata": {},
   "source": [
    "## Efficient BFS search"
   ]
  },
  {
   "cell_type": "code",
   "execution_count": 5,
   "metadata": {},
   "outputs": [],
   "source": [
    "import random"
   ]
  },
  {
   "cell_type": "code",
   "execution_count": 6,
   "metadata": {},
   "outputs": [],
   "source": [
    "nodeList = range(10)\n"
   ]
  },
  {
   "cell_type": "code",
   "execution_count": 7,
   "metadata": {},
   "outputs": [],
   "source": [
    "pair = \"\\\"%s\\\",\\\"%s\\\",-\" % (str(random.choice(nodeList)), str(random.choice(nodeList)))"
   ]
  },
  {
   "cell_type": "code",
   "execution_count": 8,
   "metadata": {},
   "outputs": [
    {
     "name": "stdout",
     "output_type": "stream",
     "text": [
      "\"6\",\"2\",-\n"
     ]
    }
   ],
   "source": [
    "print(pair)"
   ]
  },
  {
   "cell_type": "code",
   "execution_count": 10,
   "metadata": {},
   "outputs": [
    {
     "name": "stdout",
     "output_type": "stream",
     "text": [
      "2\n"
     ]
    }
   ],
   "source": [
    "print(random.choice(nodeList))"
   ]
  },
  {
   "cell_type": "code",
   "execution_count": 12,
   "metadata": {},
   "outputs": [
    {
     "data": {
      "text/plain": [
       "[[0, 0, 0, 0, 0, 0, 0, 0, 0, 0], [0, 0, 0, 0, 0, 0, 0, 0, 0, 0]]"
      ]
     },
     "execution_count": 12,
     "metadata": {},
     "output_type": "execute_result"
    }
   ],
   "source": [
    "[[0]*10]*2"
   ]
  },
  {
   "cell_type": "code",
   "execution_count": null,
   "metadata": {},
   "outputs": [],
   "source": [
    "#!/usr/bin/python\n",
    "import sys\n",
    "import random\n",
    "\n",
    "\n",
    "def main(argList):\n",
    "\n",
    "        if '-edges' in argList:\n",
    "                a = argList.index('-edges')\n",
    "                edges = int(argList[a+1])\n",
    "        else:\n",
    "                edges = 512\n",
    "\n",
    "        if '-nodes' in argList:\n",
    "                a = argList.index('-nodes')\n",
    "                nodes=int(argList[a+1])\n",
    "        else:\n",
    "                nodes = 128\n",
    "\n",
    "        if '-seed' in argList:\n",
    "                a = argList.index('-seed')\n",
    "                seed = int(argList[a+1])\n",
    "        else:\n",
    "                seed = 1048576\n",
    "\n",
    "        for i in genPair(nodes,edges,seed):\n",
    "                print i\n",
    "\n",
    "\n",
    "def genPair(nodes, edges, seed):\n",
    "        graph = set()\n",
    "        nodeList = range(nodes)\n",
    "        random.seed(seed)\n",
    "        while len(graph) < edges:\n",
    "                pair = \"\\\"%s\\\",\\\"%s\\\",-\" % (str(random.choice(nodeList)), str(random.choice(nodeList)))\n",
    "                graph.add(pair)\n",
    "\n",
    "        return  graph\n",
    "\n",
    "if __name__ == '__main__':\n",
    "        main(sys.argv[1:])"
   ]
  }
 ],
 "metadata": {
  "interpreter": {
   "hash": "c314c87e776466ef4f077dc585c9dc3eaee46cc84096b0d5b81aa8c7c1fafbb2"
  },
  "kernelspec": {
   "display_name": "Python 3.9.7 ('ai')",
   "language": "python",
   "name": "python3"
  },
  "language_info": {
   "codemirror_mode": {
    "name": "ipython",
    "version": 3
   },
   "file_extension": ".py",
   "mimetype": "text/x-python",
   "name": "python",
   "nbconvert_exporter": "python",
   "pygments_lexer": "ipython3",
   "version": "3.9.7"
  },
  "orig_nbformat": 4
 },
 "nbformat": 4,
 "nbformat_minor": 2
}
