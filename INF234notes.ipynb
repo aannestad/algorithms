{
 "cells": [
  {
   "cell_type": "markdown",
   "metadata": {},
   "source": [
    "# Lecture 1: Intro\n",
    "\n",
    "Algorithim - a finite (int) sequence (list) of instructions (def by model of computation: TM)\n",
    "\n",
    "Binary search not doable in sub linear time on a turing machine\n",
    "$\\Omega(n)$\n",
    "\n",
    "Algorithm theory\n",
    "Linear alg: Sum: time: 4n+1, space: 1\n",
    "$O(n) -> \\Omega(n) -> \\omega(n)$\n",
    "Quadratic alg: Product: time: n^2 + 1, space: n^2 (n is possible)\n",
    "$O(n^2) $ and space $\\Omega(n) $ is possible to get $nlogn$"
   ]
  },
  {
   "cell_type": "markdown",
   "metadata": {},
   "source": [
    "### Facility location problem\n",
    "\n",
    "Input: Set S of points in the plane and diameter $ d \\in Q$\n",
    "Output: maximum number of points in a circle of diameter $ d $\n",
    "\n",
    "```\n",
    "max{sum}:\n",
    "for point p_1 \\in S\n",
    "    for point p_2 \\in S \n",
    "        for p \\in S\n",
    "            if p \\in circle c\n",
    "                sum =+1 $\n",
    "```\n",
    "Runtime: $O(n^3)$\n",
    "Improvements can give a lower bound of $\\omega(nlogn)$\n"
   ]
  },
  {
   "cell_type": "markdown",
   "metadata": {},
   "source": [
    "### Stable matching problem\n",
    "\n",
    "Each hospital $h \\in H$ have a preference for each student $ s \\in S $, and each student has a preference for each hospital to intern.\n",
    "\n",
    "Input: two sets $S$, $H$, and $ |S| \\times |H| $ preference relations\n",
    "\n",
    "Hospital preferences:\n",
    "$ h_i: s_i > s_j > s_k, \\forall s \\in S $,\n",
    "\n",
    "Student preferences:\n",
    "$ s_i: h_i > h_j > h_k, \\forall h \\in H $.\n",
    "\n",
    "Output: stable matching\n",
    "\n",
    "Definition: A **matching** M of two sets A, B is a set of pairs of a and b elements, $ M = {<a_1, b_2>, <b_2, a_1>} $, s.t. each $a \\in A$ appears at most once in each $b \\in B$ appears at most once.\n",
    "\n",
    "If a matching (assignment) is a bijection (one-to-one and onto):\n",
    "**Perfect matching** if every element appears **exactly once**\n",
    "\n",
    "Def: $a$, $b$ is **unstable** if $a$ and $b$ is not matched, but prefer to be matched. Meaning $<a,b'>$, $<a',b>$, but $b >_a b'$ and $a >_b a'$ \n",
    "\n",
    "A matching $M$ is stable if there is no **unstable** pairs\n",
    "\n",
    "Fact: every input of preference relations has at least one stable matching\n",
    "\n",
    "**Gale-Shapley Algorithm:** \n",
    "\n",
    "Initially: none is matched\n",
    "```\n",
    "while some $h \\in H$ that is unmatched and has not proposed to every student\n",
    "    h proposes to a new most preferred student\n",
    "    if s is unmatched:\n",
    "        match $(h,s) \\n M$\n",
    "    else if s is matched with h', but s prefers h > h'\n",
    "        replace (h',s) with (h,s)\n",
    "    else\n",
    "        (h',s)\n",
    "        \n",
    "```\n",
    "\n",
    "The input (set of relations for n elements) is of size $n^2$, so G-S runtime is then linear (in $n^2$ input).\n",
    "\n",
    "Time complexity $O(n^2)$, the input preference relation list have size proportional to n^2, the runtime is linear in input size\n",
    "\n",
    "G-S: each preference relation has $ n $ elements for all $ n $ elements \n",
    "Running time is a function of input (proportional) -> linear of input size\n",
    "\n",
    "Spoiler: Knapsacks and Subset-sum has runtime $ O(n^2) $, the size of the input is then $logn$."
   ]
  },
  {
   "cell_type": "markdown",
   "metadata": {},
   "source": [
    "Proof of G-S\n",
    "1. Terminates\n",
    "2. No unmatched pairs\n",
    "Observation 1: hospitals propose in decreasing order of preference\n",
    "Observation 2: once a student is matched, it is never unmatched, students only replace to a better preference\n",
    "Observation 3: If H is unmatched when G-S terminates, H has proposed to all students.\n",
    "\n",
    "Proposition 1. G-S terminates after at most n^2 iterations (n is finite). \n",
    "\n",
    "Proof. Define P(t) pairs (h,s) after iteration t, then P(t+1) > P(t), since n^2 pairs, G-S terminates after at most P(n^2).\n",
    "\n",
    "M is a perfect matching.\n",
    "Proof (by contradiction)\n",
    "Suppose a matching $M$ is not perfect: $ \\exists h \\in H \\notin M $ or $ \\exists s \\in S \\notin M $ (by def. of perfect match)\n",
    "\n",
    "Observation 2 -> If $s$ is unmatched, then never proposed to -> $h$ did not propose to $s$. This is a contradiction with Observation 3, so $M$ is a perfect matching.\n",
    "\n",
    "Proposition 2. $M$ has no unstable pairs.\n",
    "Proof by contradiction: suppose $ (h,s) \\in M $ is unstable $, meaning h and s are not matched by would both prefer to be. Let (h,s') and (h',s) be unstable pairs, then:\n",
    "\n",
    "Either (1): h never proposed to s\n",
    "\n",
    "or (2): h proposed to s, who rejected\n",
    "\n",
    "For (1), by Observation 1, h proposed to s.\n",
    "(2): s was matched with h'' > h, but by Observation 2, s only trades upwards, so h' > h'' -> h' > h and is a contradiction. It follows that $M$ has no unstable pairs, and is stable.\n",
    "\n",
    "\n",
    "\n",
    "\n",
    "\n",
    "\n"
   ]
  },
  {
   "cell_type": "markdown",
   "metadata": {},
   "source": [
    "# Lecture 2\n",
    "\n",
    "### More G-S and best matchings\n",
    "\n",
    "Initially none is matched\n",
    "\n",
    "    While $\\exists h \\in H unmatched and not proposed to all s \\in S $\n",
    "        h proposes to highest ranked student h has not proposed to\n",
    "        if s is unmatched:\n",
    "            add(h,s) to M\n",
    "        else if s prefers h to current match (h',s)\n",
    "            replace (h',s) with (h,s)\n",
    "        else\n",
    "            s rejects h\n",
    "    Output M"
   ]
  },
  {
   "cell_type": "markdown",
   "metadata": {},
   "source": [
    "Definition: Student $s \\in S$ is a valid partner for $h \\in H$ if there exists a stable matching $M$ with $(h,s) \\in M$. Let best(h) = argmax(s) for valid partners for h.\n",
    "\n",
    "G-S always outputs the same solution regardless of H -> $M^*$\n",
    "\n",
    "Assume by contradiction that a match is not in best(h), then some hospital was rejected by a valid partner, if so the pair will be unstable, which is a contradiction, leading to: M' is unstable, the contradiction. So, s_h must have ben the best candidate for h. Conclude: you always get the stable matching: $M$* = (h,best(h): h in H).\n",
    "\n",
    "Exercise: show that the worst possible hospital h for s: (worst(s),s:s in S) is actually $M^*$, the best(h). Insight: a skewed relationship: the hospitals get their best possible candidate, and the students get their worst possible hospital in $M^*$.\n",
    "\n",
    "Solution: swap by matching hospitals to each students, instead of students to each hospital: then students win and hospitals lose."
   ]
  },
  {
   "cell_type": "markdown",
   "metadata": {},
   "source": [
    "### Interval scheduling\n",
    "Use some resource: $(s,f)$  from start to finish\n",
    "\n",
    "Input: A set of start and finish times: {$(s_1,f_1), (s_2,f_2),...,(s_n,f_n)$}\n",
    "\n",
    "Output: maximize total number of pairwise non-overlapping intervals\n",
    "\n",
    "Sort and greedy: $O(n log n) $\n",
    "\n",
    "### Weighted interval scheduling\n",
    "Input: {$(s_1,f_1,w_1),...,(s_n,f_n,w_2)$}\n",
    "\n",
    "Greedy does not work: if one weight is larger than all other: you should only pick this, but greedy approach may miss it.\n",
    "\n",
    "Use: DP: Start with a (optimal) element, and build solution upwards"
   ]
  },
  {
   "cell_type": "markdown",
   "metadata": {},
   "source": [
    "### Bipartite matching\n",
    "\n",
    "Set of nodes A and B is connected, while A and B is not connected to itself\n",
    "\n",
    "G = (A,B,E), find a matching $ M \\subset A \\times B $\n",
    "\n",
    "Hard problem, use a (network) flow algorithm"
   ]
  },
  {
   "cell_type": "markdown",
   "metadata": {},
   "source": []
  }
 ],
 "metadata": {
  "interpreter": {
   "hash": "b4cdbc7c3fa968f8f57a8da50a47c3ee9b8594a4de967130c021b1087ec3a6ed"
  },
  "kernelspec": {
   "display_name": "Python 3.8.5 64-bit ('ml': conda)",
   "language": "python",
   "name": "python3"
  },
  "language_info": {
   "codemirror_mode": {
    "name": "ipython",
    "version": 3
   },
   "file_extension": ".py",
   "mimetype": "text/x-python",
   "name": "python",
   "nbconvert_exporter": "python",
   "pygments_lexer": "ipython3",
   "version": "3.8.5"
  },
  "orig_nbformat": 4
 },
 "nbformat": 4,
 "nbformat_minor": 2
}
